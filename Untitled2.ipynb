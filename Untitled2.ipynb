{
 "cells": [
  {
   "cell_type": "code",
   "execution_count": 1,
   "id": "0576ae45-cf16-4521-bd0f-a9082554f4d0",
   "metadata": {},
   "outputs": [
    {
     "name": "stdin",
     "output_type": "stream",
     "text": [
      "your height : 56.6\n"
     ]
    }
   ],
   "source": [
    "h = input(\"your height :\")"
   ]
  },
  {
   "cell_type": "code",
   "execution_count": 2,
   "id": "eb083381-ac07-4a74-aadb-2c7281bcdaec",
   "metadata": {},
   "outputs": [
    {
     "data": {
      "text/plain": [
       "str"
      ]
     },
     "execution_count": 2,
     "metadata": {},
     "output_type": "execute_result"
    }
   ],
   "source": [
    "type(h)"
   ]
  },
  {
   "cell_type": "code",
   "execution_count": 3,
   "id": "0b94ec4e-a590-43f7-971c-44bcab7742db",
   "metadata": {},
   "outputs": [],
   "source": [
    "h = float(h)"
   ]
  },
  {
   "cell_type": "code",
   "execution_count": 4,
   "id": "e3b89f5f-9222-47cc-b170-9bb142b89dbe",
   "metadata": {},
   "outputs": [
    {
     "data": {
      "text/plain": [
       "float"
      ]
     },
     "execution_count": 4,
     "metadata": {},
     "output_type": "execute_result"
    }
   ],
   "source": [
    "type(h)"
   ]
  },
  {
   "cell_type": "code",
   "execution_count": 5,
   "id": "439ea392-1720-49a9-94e7-213a0041da74",
   "metadata": {},
   "outputs": [
    {
     "name": "stdin",
     "output_type": "stream",
     "text": [
      "enter amount 5600000\n"
     ]
    }
   ],
   "source": [
    "I = input(\"enter amount\") "
   ]
  },
  {
   "cell_type": "code",
   "execution_count": 6,
   "id": "31142dbc-4904-4fc2-be5c-4961aba1f1c1",
   "metadata": {},
   "outputs": [
    {
     "data": {
      "text/plain": [
       "str"
      ]
     },
     "execution_count": 6,
     "metadata": {},
     "output_type": "execute_result"
    }
   ],
   "source": [
    "type(I)"
   ]
  },
  {
   "cell_type": "code",
   "execution_count": 7,
   "id": "1bea742d-7487-4e16-ae90-85fe5d11c2ca",
   "metadata": {},
   "outputs": [],
   "source": [
    "I = int(I)"
   ]
  },
  {
   "cell_type": "code",
   "execution_count": 8,
   "id": "c94c7d98-2e0d-48d1-bd4f-ee596258f777",
   "metadata": {},
   "outputs": [
    {
     "data": {
      "text/plain": [
       "int"
      ]
     },
     "execution_count": 8,
     "metadata": {},
     "output_type": "execute_result"
    }
   ],
   "source": [
    "type(I)"
   ]
  },
  {
   "cell_type": "code",
   "execution_count": null,
   "id": "07881ccb-9a3e-476c-9e2b-2da5f891d9ee",
   "metadata": {},
   "outputs": [],
   "source": [
    "\n"
   ]
  }
 ],
 "metadata": {
  "kernelspec": {
   "display_name": "Python [conda env:base] *",
   "language": "python",
   "name": "conda-base-py"
  },
  "language_info": {
   "codemirror_mode": {
    "name": "ipython",
    "version": 3
   },
   "file_extension": ".py",
   "mimetype": "text/x-python",
   "name": "python",
   "nbconvert_exporter": "python",
   "pygments_lexer": "ipython3",
   "version": "3.13.5"
  }
 },
 "nbformat": 4,
 "nbformat_minor": 5
}
