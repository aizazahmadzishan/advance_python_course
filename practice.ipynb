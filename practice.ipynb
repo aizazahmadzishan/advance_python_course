{
 "cells": [
  {
   "cell_type": "code",
   "execution_count": 1,
   "id": "27c257c8-64a8-43ca-a727-e6043df59a8d",
   "metadata": {},
   "outputs": [],
   "source": [
    "list1 = [1, 2, 3, 4, 5, 6, 7, 8, 9]"
   ]
  },
  {
   "cell_type": "code",
   "execution_count": 2,
   "id": "2b28e5ce-63ab-41f1-8f68-84ffb383f65e",
   "metadata": {},
   "outputs": [
    {
     "data": {
      "text/plain": [
       "9"
      ]
     },
     "execution_count": 2,
     "metadata": {},
     "output_type": "execute_result"
    }
   ],
   "source": [
    "len(list1)"
   ]
  },
  {
   "cell_type": "code",
   "execution_count": 3,
   "id": "144f04da-4037-4be0-9d2e-99d90a9f6e81",
   "metadata": {},
   "outputs": [
    {
     "data": {
      "text/plain": [
       "[3, 4, 5, 6, 7]"
      ]
     },
     "execution_count": 3,
     "metadata": {},
     "output_type": "execute_result"
    }
   ],
   "source": [
    "list1[2:7]"
   ]
  },
  {
   "cell_type": "code",
   "execution_count": 4,
   "id": "4850ea26-1c5e-406d-b322-981868690ea1",
   "metadata": {},
   "outputs": [
    {
     "data": {
      "text/plain": [
       "[1, 2, 3, 4, 5, 6, 7]"
      ]
     },
     "execution_count": 4,
     "metadata": {},
     "output_type": "execute_result"
    }
   ],
   "source": [
    "list1[:7]"
   ]
  },
  {
   "cell_type": "code",
   "execution_count": 5,
   "id": "324a8cc4-5931-4d41-93ce-a97c165beaa2",
   "metadata": {},
   "outputs": [
    {
     "data": {
      "text/plain": [
       "[5, 6, 7, 8, 9]"
      ]
     },
     "execution_count": 5,
     "metadata": {},
     "output_type": "execute_result"
    }
   ],
   "source": [
    "list1[4:]"
   ]
  },
  {
   "cell_type": "code",
   "execution_count": 6,
   "id": "a85ab172-aa12-4fd4-8760-20c85c3c37cd",
   "metadata": {},
   "outputs": [
    {
     "name": "stdout",
     "output_type": "stream",
     "text": [
      "[1, 2, 3, 4, 5, 6, 7, 8, 9]\n"
     ]
    }
   ],
   "source": [
    "print(list1[:])"
   ]
  },
  {
   "cell_type": "code",
   "execution_count": 7,
   "id": "2e4d822c-4ed3-4c66-8049-f56adbab3bde",
   "metadata": {},
   "outputs": [
    {
     "data": {
      "text/plain": [
       "[1, 8]"
      ]
     },
     "execution_count": 7,
     "metadata": {},
     "output_type": "execute_result"
    }
   ],
   "source": [
    "list1[::7]"
   ]
  },
  {
   "cell_type": "code",
   "execution_count": 8,
   "id": "b543334d-3e97-402d-9bb8-fa28e5d44573",
   "metadata": {},
   "outputs": [
    {
     "data": {
      "text/plain": [
       "[9, 8, 7, 6, 5, 4, 3, 2, 1]"
      ]
     },
     "execution_count": 8,
     "metadata": {},
     "output_type": "execute_result"
    }
   ],
   "source": [
    "list1[::-1]"
   ]
  },
  {
   "cell_type": "code",
   "execution_count": 9,
   "id": "24b66722-1279-42d6-b553-f2382b67ddfd",
   "metadata": {},
   "outputs": [
    {
     "data": {
      "text/plain": [
       "[9, 7, 5, 3, 1]"
      ]
     },
     "execution_count": 9,
     "metadata": {},
     "output_type": "execute_result"
    }
   ],
   "source": [
    "list1[::-2]"
   ]
  },
  {
   "cell_type": "code",
   "execution_count": 10,
   "id": "0fe8c494-fb49-4864-a3c2-5017809dd6a9",
   "metadata": {},
   "outputs": [],
   "source": [
    "f = [\"apple\", \"banana\"]"
   ]
  },
  {
   "cell_type": "code",
   "execution_count": 11,
   "id": "d2432321-03a1-4513-9712-7a8e3ff154d5",
   "metadata": {},
   "outputs": [],
   "source": [
    "f[0] = \"orange\""
   ]
  },
  {
   "cell_type": "code",
   "execution_count": 12,
   "id": "228a6827-9658-46b6-9924-445a3361cd10",
   "metadata": {},
   "outputs": [
    {
     "name": "stdout",
     "output_type": "stream",
     "text": [
      "['orange', 'banana']\n"
     ]
    }
   ],
   "source": [
    "print(f)"
   ]
  },
  {
   "cell_type": "code",
   "execution_count": 13,
   "id": "77ebcc75-a4c8-4d6d-85b4-f0dbccb2bf67",
   "metadata": {},
   "outputs": [
    {
     "ename": "IndexError",
     "evalue": "list assignment index out of range",
     "output_type": "error",
     "traceback": [
      "\u001b[1;31m---------------------------------------------------------------------------\u001b[0m",
      "\u001b[1;31mIndexError\u001b[0m                                Traceback (most recent call last)",
      "Cell \u001b[1;32mIn[13], line 1\u001b[0m\n\u001b[1;32m----> 1\u001b[0m f[\u001b[38;5;241m2\u001b[39m] \u001b[38;5;241m=\u001b[39m \u001b[38;5;124m\"\u001b[39m\u001b[38;5;124mabc\u001b[39m\u001b[38;5;124m\"\u001b[39m\n",
      "\u001b[1;31mIndexError\u001b[0m: list assignment index out of range"
     ]
    }
   ],
   "source": [
    "f[2] = \"abc\""
   ]
  },
  {
   "cell_type": "code",
   "execution_count": 14,
   "id": "25607855-b299-468b-b6b1-a63ec8e56ba8",
   "metadata": {},
   "outputs": [],
   "source": [
    "list1[0]= 0"
   ]
  },
  {
   "cell_type": "code",
   "execution_count": 15,
   "id": "eede91ba-b29b-413a-98c7-5998a6be3040",
   "metadata": {},
   "outputs": [
    {
     "name": "stdout",
     "output_type": "stream",
     "text": [
      "[0, 2, 3, 4, 5, 6, 7, 8, 9]\n"
     ]
    }
   ],
   "source": [
    "print(list1)"
   ]
  },
  {
   "cell_type": "code",
   "execution_count": 16,
   "id": "08daaf2f-6eaa-46cc-ba13-fae3be2b7e56",
   "metadata": {},
   "outputs": [],
   "source": [
    "list1.append(10)"
   ]
  },
  {
   "cell_type": "code",
   "execution_count": 17,
   "id": "95d7441f-4e94-48f5-84ed-3e2a6ddb84bc",
   "metadata": {},
   "outputs": [
    {
     "name": "stdout",
     "output_type": "stream",
     "text": [
      "[0, 2, 3, 4, 5, 6, 7, 8, 9, 10]\n"
     ]
    }
   ],
   "source": [
    "print(list1)"
   ]
  },
  {
   "cell_type": "code",
   "execution_count": 18,
   "id": "6151bdb5-fb1d-4b5e-bfa4-846b8cd26b53",
   "metadata": {},
   "outputs": [],
   "source": [
    "list1.insert(1, 1)"
   ]
  },
  {
   "cell_type": "code",
   "execution_count": 19,
   "id": "5f1a9468-8b09-4920-9003-b53ea7ad1a3d",
   "metadata": {},
   "outputs": [
    {
     "name": "stdout",
     "output_type": "stream",
     "text": [
      "[0, 1, 2, 3, 4, 5, 6, 7, 8, 9, 10]\n"
     ]
    }
   ],
   "source": [
    "print(list1)"
   ]
  },
  {
   "cell_type": "code",
   "execution_count": 20,
   "id": "f78a7a6b-869e-496d-af02-105d6cb947a7",
   "metadata": {},
   "outputs": [],
   "source": [
    "c = list1 + f"
   ]
  },
  {
   "cell_type": "code",
   "execution_count": 21,
   "id": "03a8b614-2680-4047-b6a6-3acda1ed278f",
   "metadata": {},
   "outputs": [
    {
     "name": "stdout",
     "output_type": "stream",
     "text": [
      "[0, 1, 2, 3, 4, 5, 6, 7, 8, 9, 10, 'orange', 'banana']\n"
     ]
    }
   ],
   "source": [
    "print(c)"
   ]
  },
  {
   "cell_type": "code",
   "execution_count": 22,
   "id": "3753eaff-6b40-4631-bf4f-10139dbf15d7",
   "metadata": {},
   "outputs": [],
   "source": [
    "list1.extend(f)"
   ]
  },
  {
   "cell_type": "code",
   "execution_count": 23,
   "id": "c350485a-b2e2-4df8-9cc2-dc03d31c5b1d",
   "metadata": {},
   "outputs": [
    {
     "name": "stdout",
     "output_type": "stream",
     "text": [
      "[0, 1, 2, 3, 4, 5, 6, 7, 8, 9, 10, 'orange', 'banana']\n"
     ]
    }
   ],
   "source": [
    "print(list1)"
   ]
  },
  {
   "cell_type": "code",
   "execution_count": 24,
   "id": "a5dd3dd4-79f1-4098-8830-b842f787a465",
   "metadata": {},
   "outputs": [],
   "source": [
    "# manipulation"
   ]
  },
  {
   "cell_type": "code",
   "execution_count": 25,
   "id": "9367ac1f-4beb-4718-9d40-c90cee5a117d",
   "metadata": {},
   "outputs": [],
   "source": [
    "list1.remove(\"orange\")"
   ]
  },
  {
   "cell_type": "code",
   "execution_count": 26,
   "id": "e2cd7f49-d924-46f8-b3c8-6be7342aa824",
   "metadata": {},
   "outputs": [
    {
     "name": "stdout",
     "output_type": "stream",
     "text": [
      "[0, 1, 2, 3, 4, 5, 6, 7, 8, 9, 10, 'banana']\n"
     ]
    }
   ],
   "source": [
    "print(list1)"
   ]
  },
  {
   "cell_type": "code",
   "execution_count": 27,
   "id": "c32f525d-b273-4ee4-a2a1-7b4d776ea100",
   "metadata": {},
   "outputs": [],
   "source": [
    "list1.remove(\"banana\")"
   ]
  },
  {
   "cell_type": "code",
   "execution_count": 28,
   "id": "4a4e6555-6a89-4a78-9eb4-19b52e79c651",
   "metadata": {},
   "outputs": [
    {
     "name": "stdout",
     "output_type": "stream",
     "text": [
      "[0, 1, 2, 3, 4, 5, 6, 7, 8, 9, 10]\n"
     ]
    }
   ],
   "source": [
    "print(list1)"
   ]
  },
  {
   "cell_type": "code",
   "execution_count": 31,
   "id": "393ab539-3f40-476c-b97f-cfbcdfdc3b30",
   "metadata": {},
   "outputs": [],
   "source": [
    "list2 = list1.pop(0)"
   ]
  },
  {
   "cell_type": "code",
   "execution_count": 32,
   "id": "52172e8a-6af2-46df-8684-1cea282d8324",
   "metadata": {},
   "outputs": [
    {
     "name": "stdout",
     "output_type": "stream",
     "text": [
      "[2, 3, 4, 5, 6, 7, 8, 9, 10]\n"
     ]
    }
   ],
   "source": [
    "print(list1)"
   ]
  },
  {
   "cell_type": "code",
   "execution_count": 34,
   "id": "d2934382-af2c-4112-9706-4eea90306d26",
   "metadata": {},
   "outputs": [
    {
     "name": "stdout",
     "output_type": "stream",
     "text": [
      "1\n"
     ]
    }
   ],
   "source": [
    "print(list2)"
   ]
  },
  {
   "cell_type": "code",
   "execution_count": 35,
   "id": "ad97531d-e92d-48e4-aaf6-22b4e8746804",
   "metadata": {},
   "outputs": [],
   "source": [
    "del list1[8]"
   ]
  },
  {
   "cell_type": "code",
   "execution_count": 36,
   "id": "abb9f323-7296-4910-8ea3-0d70b1f5a932",
   "metadata": {},
   "outputs": [
    {
     "name": "stdout",
     "output_type": "stream",
     "text": [
      "[2, 3, 4, 5, 6, 7, 8, 9]\n"
     ]
    }
   ],
   "source": [
    "print(list1)"
   ]
  },
  {
   "cell_type": "markdown",
   "id": "65ddb7ae-4415-4848-9c79-82e767a9610b",
   "metadata": {},
   "source": [
    "# Home work\n",
    "# difference between pop and remove commond"
   ]
  },
  {
   "cell_type": "code",
   "execution_count": 37,
   "id": "ee465ee9-dcf5-4f15-a508-9540df686f1d",
   "metadata": {},
   "outputs": [
    {
     "data": {
      "text/plain": [
       "8"
      ]
     },
     "execution_count": 37,
     "metadata": {},
     "output_type": "execute_result"
    }
   ],
   "source": [
    "len(list1)"
   ]
  },
  {
   "cell_type": "code",
   "execution_count": 38,
   "id": "db0bfb04-3f4d-4368-8272-c97aa8709b01",
   "metadata": {},
   "outputs": [
    {
     "data": {
      "text/plain": [
       "3"
      ]
     },
     "execution_count": 38,
     "metadata": {},
     "output_type": "execute_result"
    }
   ],
   "source": [
    "list1.index(5)"
   ]
  },
  {
   "cell_type": "code",
   "execution_count": 40,
   "id": "6f86ba83-d5bd-4778-b73c-c7fc887046c6",
   "metadata": {},
   "outputs": [],
   "source": [
    "list1.append([10, 11, 13, 13, 15, 15, 15])"
   ]
  },
  {
   "cell_type": "code",
   "execution_count": 41,
   "id": "46f5b546-6943-4f8f-88f4-5e42c65970d4",
   "metadata": {},
   "outputs": [
    {
     "name": "stdout",
     "output_type": "stream",
     "text": [
      "[2, 3, 4, 5, 6, 7, 8, 9, [10, 11, 13, 13, 15, 15, 15]]\n"
     ]
    }
   ],
   "source": [
    "print(list1)"
   ]
  },
  {
   "cell_type": "code",
   "execution_count": 42,
   "id": "0448cd20-0dd3-4508-89de-1159bfba7f70",
   "metadata": {},
   "outputs": [
    {
     "data": {
      "text/plain": [
       "0"
      ]
     },
     "execution_count": 42,
     "metadata": {},
     "output_type": "execute_result"
    }
   ],
   "source": [
    "list1.count(15)"
   ]
  },
  {
   "cell_type": "code",
   "execution_count": 43,
   "id": "c20af5d6-9ec1-4700-ad58-e800ee350865",
   "metadata": {},
   "outputs": [
    {
     "data": {
      "text/plain": [
       "1"
      ]
     },
     "execution_count": 43,
     "metadata": {},
     "output_type": "execute_result"
    }
   ],
   "source": [
    "list1.count(5)"
   ]
  },
  {
   "cell_type": "code",
   "execution_count": 44,
   "id": "dd1b67ba-13d9-47b7-ba55-8c4f8951744d",
   "metadata": {},
   "outputs": [],
   "source": [
    "list11 =[1, 5, 3, 6, 9, 10, 43, 9]"
   ]
  },
  {
   "cell_type": "code",
   "execution_count": 45,
   "id": "8a87a1c7-6b0d-4de3-999b-117eb31a6322",
   "metadata": {},
   "outputs": [],
   "source": [
    "list11.sort(reverse=True)"
   ]
  },
  {
   "cell_type": "code",
   "execution_count": 46,
   "id": "8f2358e7-8c10-41d6-a15b-4fbdc909da96",
   "metadata": {},
   "outputs": [
    {
     "name": "stdout",
     "output_type": "stream",
     "text": [
      "[43, 10, 9, 9, 6, 5, 3, 1]\n"
     ]
    }
   ],
   "source": [
    "print(list11)"
   ]
  },
  {
   "cell_type": "code",
   "execution_count": 47,
   "id": "7f1918e7-1d86-4c57-a52c-ae92254790c2",
   "metadata": {},
   "outputs": [],
   "source": [
    "list11.sort(reverse=False)"
   ]
  },
  {
   "cell_type": "code",
   "execution_count": 48,
   "id": "f1311a8b-7259-4a3b-939c-3e6e3a54aa5e",
   "metadata": {},
   "outputs": [
    {
     "name": "stdout",
     "output_type": "stream",
     "text": [
      "[1, 3, 5, 6, 9, 9, 10, 43]\n"
     ]
    }
   ],
   "source": [
    "print(list11)"
   ]
  },
  {
   "cell_type": "code",
   "execution_count": 49,
   "id": "c18d2165-0ab4-4fcf-8130-d613c2d17329",
   "metadata": {},
   "outputs": [
    {
     "data": {
      "text/plain": [
       "2"
      ]
     },
     "execution_count": 49,
     "metadata": {},
     "output_type": "execute_result"
    }
   ],
   "source": [
    "list11.count(9)"
   ]
  },
  {
   "cell_type": "markdown",
   "id": "2c9f884c-e3ff-4309-aaba-b1670a1cd55f",
   "metadata": {},
   "source": [
    "## tuple"
   ]
  },
  {
   "cell_type": "code",
   "execution_count": 1,
   "id": "cf97f6b9-2b9e-4f98-a79c-8cf1474ec146",
   "metadata": {},
   "outputs": [],
   "source": [
    "t = (1, 2, 3, 4)"
   ]
  },
  {
   "cell_type": "code",
   "execution_count": 2,
   "id": "c6e101af-ef7b-42f8-ace7-339744387258",
   "metadata": {},
   "outputs": [
    {
     "name": "stdout",
     "output_type": "stream",
     "text": [
      "(1, 2, 3, 4)\n"
     ]
    }
   ],
   "source": [
    "print(t)"
   ]
  },
  {
   "cell_type": "code",
   "execution_count": 4,
   "id": "fabfadc1-ee3c-40ed-9173-2174961fe192",
   "metadata": {},
   "outputs": [
    {
     "data": {
      "text/plain": [
       "tuple"
      ]
     },
     "execution_count": 4,
     "metadata": {},
     "output_type": "execute_result"
    }
   ],
   "source": [
    "type(t)"
   ]
  },
  {
   "cell_type": "code",
   "execution_count": 5,
   "id": "b22b6797-e563-42d3-9020-720f723038dd",
   "metadata": {},
   "outputs": [],
   "source": [
    "tt = ((1,2), (3,4))"
   ]
  },
  {
   "cell_type": "code",
   "execution_count": 6,
   "id": "2acfe759-505c-4128-97be-526a1a58353b",
   "metadata": {},
   "outputs": [
    {
     "name": "stdout",
     "output_type": "stream",
     "text": [
      "4\n"
     ]
    }
   ],
   "source": [
    "print(tt[1][1])"
   ]
  },
  {
   "cell_type": "code",
   "execution_count": 8,
   "id": "8138b7c3-5af3-48c2-bbb7-0844c1764a0e",
   "metadata": {},
   "outputs": [
    {
     "name": "stdout",
     "output_type": "stream",
     "text": [
      "(3, 4)\n"
     ]
    }
   ],
   "source": [
    "print(tt[1])"
   ]
  },
  {
   "cell_type": "code",
   "execution_count": 10,
   "id": "a569764f-4b86-4a77-825e-01108f2e82a6",
   "metadata": {},
   "outputs": [],
   "source": [
    "ttt = (1, 2, 3, 4, 5, 7, 6, 8)"
   ]
  },
  {
   "cell_type": "code",
   "execution_count": 11,
   "id": "d25e680f-1c8b-479a-9db1-b5f6514190a2",
   "metadata": {},
   "outputs": [
    {
     "name": "stdout",
     "output_type": "stream",
     "text": [
      "(1, 2, 3, 4)\n"
     ]
    }
   ],
   "source": [
    "print(ttt[:4])"
   ]
  },
  {
   "cell_type": "code",
   "execution_count": 12,
   "id": "d4bc00cd-1002-4ece-9a02-145f2585ed66",
   "metadata": {},
   "outputs": [
    {
     "name": "stdout",
     "output_type": "stream",
     "text": [
      "(1, 5)\n"
     ]
    }
   ],
   "source": [
    "print(ttt[::4])"
   ]
  },
  {
   "cell_type": "code",
   "execution_count": 13,
   "id": "6c72462e-057f-40c9-bd7b-144d316c1de3",
   "metadata": {},
   "outputs": [],
   "source": [
    "d = t + ttt"
   ]
  },
  {
   "cell_type": "code",
   "execution_count": 14,
   "id": "6050609c-dfa5-4fc7-9992-abd54bce70a5",
   "metadata": {},
   "outputs": [
    {
     "name": "stdout",
     "output_type": "stream",
     "text": [
      "(1, 2, 3, 4, 1, 2, 3, 4, 5, 7, 6, 8)\n"
     ]
    }
   ],
   "source": [
    "print(d)"
   ]
  },
  {
   "cell_type": "code",
   "execution_count": 15,
   "id": "fc6c76e7-fba0-499e-9f86-82ee76786ebb",
   "metadata": {},
   "outputs": [
    {
     "name": "stdout",
     "output_type": "stream",
     "text": [
      "8\n"
     ]
    }
   ],
   "source": [
    "print(d.index(5))"
   ]
  },
  {
   "cell_type": "code",
   "execution_count": 16,
   "id": "670a9f26-c3f9-4127-92ef-4f9c46e7a558",
   "metadata": {},
   "outputs": [
    {
     "name": "stdout",
     "output_type": "stream",
     "text": [
      "False\n"
     ]
    }
   ],
   "source": [
    "print(99 in d)"
   ]
  },
  {
   "cell_type": "code",
   "execution_count": 17,
   "id": "59a832e1-852f-4f77-a2e3-4256933e0479",
   "metadata": {},
   "outputs": [
    {
     "name": "stdout",
     "output_type": "stream",
     "text": [
      "True\n"
     ]
    }
   ],
   "source": [
    "print(4 in d)"
   ]
  },
  {
   "cell_type": "markdown",
   "id": "516df217-57cf-4d73-9345-11ba22b863ba",
   "metadata": {},
   "source": [
    "# 16 Oct 2025\n"
   ]
  },
  {
   "cell_type": "code",
   "execution_count": 7,
   "id": "01c09ed7-9cb2-409e-bb98-46bc3f53a319",
   "metadata": {},
   "outputs": [],
   "source": [
    "D = {\n",
    "    \"name\" : \"aizaz\",\n",
    "    \"gender\" : \"male\",\n",
    "    \"age\" : 22,\n",
    "    \"score\" : 9.9,\n",
    "    \"parents\" : (\"AA\", \"BB\"),\n",
    "    \"subjects taken\" : { 1 : \"maths\",\n",
    "                        2 : \"eng\"\n",
    "        \n",
    "    },\n",
    "    \"pass\" : True,\n",
    "    \"address\" : { \"house no\" : 12,\n",
    "                 \"street\" : \"s-2\"\n",
    "        \n",
    "    },\n",
    "    \"friends\" : [\"A\", \"B\", \"C\"]\n",
    "}"
   ]
  },
  {
   "cell_type": "code",
   "execution_count": 5,
   "id": "0c647a33-2538-485d-88e0-5f41c0951861",
   "metadata": {},
   "outputs": [
    {
     "data": {
      "text/plain": [
       "dict"
      ]
     },
     "execution_count": 5,
     "metadata": {},
     "output_type": "execute_result"
    }
   ],
   "source": [
    "type(D)"
   ]
  },
  {
   "cell_type": "code",
   "execution_count": 6,
   "id": "b9e8ad9a-17d5-464f-9770-dac6bff4ed50",
   "metadata": {},
   "outputs": [
    {
     "name": "stdout",
     "output_type": "stream",
     "text": [
      "{'name': 'aizaz', 'gender': 'male', 'age': 22, 'score': 9.9, 'parents': ('AA', 'BB'), 'subjects taken': {1: 'maths', 2: 'eng'}, 'pass': True, 'address': {'house no': 12, 'street': 's-2'}, 'friends': ['A', 'B', 'C']}\n"
     ]
    }
   ],
   "source": [
    "print(D)"
   ]
  },
  {
   "cell_type": "code",
   "execution_count": 8,
   "id": "e7d6e632-c722-40f6-b575-43af7b3af97a",
   "metadata": {},
   "outputs": [
    {
     "data": {
      "text/plain": [
       "('AA', 'BB')"
      ]
     },
     "execution_count": 8,
     "metadata": {},
     "output_type": "execute_result"
    }
   ],
   "source": [
    "D[\"parents\"]"
   ]
  },
  {
   "cell_type": "code",
   "execution_count": 9,
   "id": "1d4e2033-edfd-47b3-8b6c-28ba9aa831e3",
   "metadata": {},
   "outputs": [
    {
     "data": {
      "text/plain": [
       "22"
      ]
     },
     "execution_count": 9,
     "metadata": {},
     "output_type": "execute_result"
    }
   ],
   "source": [
    "D[\"age\"]"
   ]
  },
  {
   "cell_type": "code",
   "execution_count": 10,
   "id": "7982ca8b-21d1-4283-94ae-770aaa54177b",
   "metadata": {},
   "outputs": [
    {
     "data": {
      "text/plain": [
       "{'house no': 12, 'street': 's-2'}"
      ]
     },
     "execution_count": 10,
     "metadata": {},
     "output_type": "execute_result"
    }
   ],
   "source": [
    "D[\"address\"]"
   ]
  },
  {
   "cell_type": "code",
   "execution_count": 11,
   "id": "6ddeb9a5-1d82-4f94-b23f-561a4514ee04",
   "metadata": {},
   "outputs": [],
   "source": [
    "D[\"address\"][\"house no\"] = 102"
   ]
  },
  {
   "cell_type": "code",
   "execution_count": 12,
   "id": "016d4df5-22ed-4238-9aa5-338e31d9f54c",
   "metadata": {},
   "outputs": [
    {
     "name": "stdout",
     "output_type": "stream",
     "text": [
      "{'name': 'aizaz', 'gender': 'male', 'age': 22, 'score': 9.9, 'parents': ('AA', 'BB'), 'subjects taken': {1: 'maths', 2: 'eng'}, 'pass': True, 'address': {'house no': 102, 'street': 's-2'}, 'friends': ['A', 'B', 'C']}\n"
     ]
    }
   ],
   "source": [
    "print(D)"
   ]
  },
  {
   "cell_type": "code",
   "execution_count": 13,
   "id": "0929ff1a-fe10-4f7f-b11a-c3a5111c360f",
   "metadata": {},
   "outputs": [
    {
     "data": {
      "text/plain": [
       "{'house no': 102, 'street': 's-2'}"
      ]
     },
     "execution_count": 13,
     "metadata": {},
     "output_type": "execute_result"
    }
   ],
   "source": [
    "D[\"address\"]"
   ]
  },
  {
   "cell_type": "code",
   "execution_count": null,
   "id": "838d2660-324d-4542-8102-c5aff4a98cd6",
   "metadata": {},
   "outputs": [],
   "source": [
    "def f():\n",
    "    p('YOUR NAME')"
   ]
  },
  {
   "cell_type": "code",
   "execution_count": 6,
   "id": "c1194d75",
   "metadata": {},
   "outputs": [
    {
     "name": "stdout",
     "output_type": "stream",
     "text": [
      "<function f at 0x000001DBF83A4540>\n"
     ]
    }
   ],
   "source": [
    "print(f)"
   ]
  },
  {
   "cell_type": "code",
   "execution_count": 7,
   "id": "8127b32a",
   "metadata": {},
   "outputs": [],
   "source": [
    "def N():\n",
    "    y = \"YOUR NAME\"\n",
    "    return y"
   ]
  },
  {
   "cell_type": "code",
   "execution_count": 12,
   "id": "452a0d00",
   "metadata": {},
   "outputs": [
    {
     "name": "stdout",
     "output_type": "stream",
     "text": [
      "YOUR NAME\n"
     ]
    }
   ],
   "source": [
    "print(N())"
   ]
  },
  {
   "cell_type": "code",
   "execution_count": 16,
   "id": "5a7c0057",
   "metadata": {},
   "outputs": [
    {
     "name": "stdout",
     "output_type": "stream",
     "text": [
      "\n",
      "Collected Information:\n",
      "Name: \n",
      "Address: \n",
      "Contact Number: \n",
      "CNIC Number: \n",
      "Age: \n",
      "Country: \n"
     ]
    }
   ],
   "source": [
    "def f():\n",
    "    name = input(\"Enter your name: \")\n",
    "    address = input(\"Enter your address: \")\n",
    "    contact_no = input(\"Enter your contact number: \")\n",
    "    cnic_no = input(\"Enter your CNIC number: \")\n",
    "    age = input(\"Enter your age: \")\n",
    "    Country = input(\"Country\")\n",
    "    return {\n",
    "        \"Name\": name,\n",
    "        \"Address\": address,\n",
    "        \"Contact Number\": contact_no,\n",
    "        \"CNIC Number\": cnic_no,\n",
    "        \"Age\": age,\n",
    "        \"Country\": Country\n",
    "    }\n",
    "\n",
    "info = f()\n",
    "print(\"\\nCollected Information:\")\n",
    "for key, value in info.items():\n",
    "    print(f\"{key}: {value}\")\n"
   ]
  },
  {
   "cell_type": "code",
   "execution_count": 17,
   "id": "686ce4db",
   "metadata": {},
   "outputs": [],
   "source": [
    "def g(name, age):\n",
    "    return {\n",
    "        \"name\": name,\n",
    "        \"age\": age\n",
    "    }"
   ]
  },
  {
   "cell_type": "code",
   "execution_count": 18,
   "id": "3dc108c6",
   "metadata": {},
   "outputs": [
    {
     "data": {
      "text/plain": [
       "{'name': 'ali', 'age': 20}"
      ]
     },
     "execution_count": 18,
     "metadata": {},
     "output_type": "execute_result"
    }
   ],
   "source": [
    "g(\"ali\", 20)"
   ]
  },
  {
   "cell_type": "code",
   "execution_count": 19,
   "id": "b45219d6",
   "metadata": {},
   "outputs": [],
   "source": [
    "def g(name, age= \"18+\"):\n",
    "    return {\n",
    "        \"name\": name,\n",
    "        \"age\": age\n",
    "    }"
   ]
  },
  {
   "cell_type": "code",
   "execution_count": 20,
   "id": "7c1db219",
   "metadata": {},
   "outputs": [
    {
     "data": {
      "text/plain": [
       "{'name': 'ali', 'age': '18+'}"
      ]
     },
     "execution_count": 20,
     "metadata": {},
     "output_type": "execute_result"
    }
   ],
   "source": [
    "g(\"ali\")"
   ]
  },
  {
   "cell_type": "code",
   "execution_count": 21,
   "id": "fdb1939c",
   "metadata": {},
   "outputs": [],
   "source": [
    "def g(name, age):\n",
    "    return {\n",
    "        \"name\": name,\n",
    "        \"age\": age\n",
    "    }"
   ]
  },
  {
   "cell_type": "code",
   "execution_count": 22,
   "id": "6babffa3",
   "metadata": {},
   "outputs": [
    {
     "data": {
      "text/plain": [
       "{'name': 'ALI', 'age': 20}"
      ]
     },
     "execution_count": 22,
     "metadata": {},
     "output_type": "execute_result"
    }
   ],
   "source": [
    "g(age= 20, name=\"ALI\")"
   ]
  },
  {
   "cell_type": "code",
   "execution_count": 26,
   "id": "45a889f7",
   "metadata": {},
   "outputs": [],
   "source": [
    "def g1(name, age):\n",
    "    if age <18:\n",
    "        return \"Not eligible\"\n",
    "    return {\n",
    "        \"name\": name,\n",
    "        \"age\": age\n",
    "    }\n"
   ]
  },
  {
   "cell_type": "code",
   "execution_count": 27,
   "id": "b001002d",
   "metadata": {},
   "outputs": [
    {
     "data": {
      "text/plain": [
       "'Not eligible'"
      ]
     },
     "execution_count": 27,
     "metadata": {},
     "output_type": "execute_result"
    }
   ],
   "source": [
    "g1(\"ABC\", 12)"
   ]
  },
  {
   "cell_type": "code",
   "execution_count": 28,
   "id": "9dcdbbd4",
   "metadata": {},
   "outputs": [
    {
     "data": {
      "text/plain": [
       "{'name': 'ABC', 'age': 18}"
      ]
     },
     "execution_count": 28,
     "metadata": {},
     "output_type": "execute_result"
    }
   ],
   "source": [
    "g1(\"ABC\", 18)"
   ]
  },
  {
   "cell_type": "code",
   "execution_count": 29,
   "id": "f849b532",
   "metadata": {},
   "outputs": [
    {
     "name": "stdout",
     "output_type": "stream",
     "text": [
      "You are eligible.\n"
     ]
    }
   ],
   "source": [
    "def g2(age, marks, attendance):\n",
    "    if age >= 18 and marks >= 50 and attendance >= 75:\n",
    "        print(\"You are eligible.\")\n",
    "    elif age < 18:\n",
    "        print(\"You are not eligible because of age.\")\n",
    "    else:\n",
    "        print(\"You are not eligible because of marks or attendance.\")\n",
    "\n",
    "g2(19, 60, 80)\n"
   ]
  },
  {
   "cell_type": "code",
   "execution_count": 30,
   "id": "51e2af88",
   "metadata": {},
   "outputs": [
    {
     "name": "stdout",
     "output_type": "stream",
     "text": [
      "You are not eligible because of marks or attendance.\n"
     ]
    }
   ],
   "source": [
    "g2(80, 9, 9)"
   ]
  },
  {
   "cell_type": "code",
   "execution_count": 36,
   "id": "1934e9e4",
   "metadata": {},
   "outputs": [
    {
     "name": "stdout",
     "output_type": "stream",
     "text": [
      "You are eligible.\n"
     ]
    }
   ],
   "source": [
    "def g3(age, marks, attendance):\n",
    "    if age >= 18 and marks >= 50 and attendance >= 75:\n",
    "        print(\"You are eligible.\")\n",
    "    elif age < 18:\n",
    "        print(\"You are not eligible because of age.\")\n",
    "    else:\n",
    "        print(\"You are not eligible because of marks or attendance.\")\n",
    "g3(80, 80, 80)        "
   ]
  },
  {
   "cell_type": "code",
   "execution_count": 49,
   "id": "e66f6d15",
   "metadata": {},
   "outputs": [],
   "source": [
    "def g4(*args):\n",
    "    return \" + \".join(args)\n",
    "A = g4(\"1\", \"20\", \"50\", \"11110\")\n"
   ]
  },
  {
   "cell_type": "code",
   "execution_count": 50,
   "id": "4d93d830",
   "metadata": {},
   "outputs": [
    {
     "name": "stdout",
     "output_type": "stream",
     "text": [
      "1 + 20 + 50 + 11110\n"
     ]
    }
   ],
   "source": [
    "print(A)"
   ]
  },
  {
   "cell_type": "code",
   "execution_count": 53,
   "id": "9df51477",
   "metadata": {},
   "outputs": [
    {
     "name": "stdout",
     "output_type": "stream",
     "text": [
      "You entered 4 items: Name, Age, City, Country\n"
     ]
    }
   ],
   "source": [
    "def g5(*args):\n",
    "    return f\"You entered {len(args)} items: {', '.join(args)}\"\n",
    "\n",
    "A = g10(\"Name\", \"Age\", \"City\", \"Country\")\n",
    "print(A)\n"
   ]
  },
  {
   "cell_type": "code",
   "execution_count": null,
   "id": "52603a63",
   "metadata": {},
   "outputs": [
    {
     "name": "stdout",
     "output_type": "stream",
     "text": [
      "1 | 20 | 50 | 11110\n"
     ]
    }
   ],
   "source": [
    "def g6(*args):\n",
    "    return \" | \".join(args)\n",
    "A = g4(\"1\", \"20\", \"50\", \"110\")\n",
    "print(A)"
   ]
  },
  {
   "cell_type": "code",
   "execution_count": 62,
   "id": "0e0f9370",
   "metadata": {},
   "outputs": [
    {
     "name": "stdout",
     "output_type": "stream",
     "text": [
      "A   OR,  B   OR,  C   OR,  D\n"
     ]
    }
   ],
   "source": [
    "def g6(*args):\n",
    "    return \"   OR,  \".join(args)\n",
    "A = g6(\"A\", \"B\", \"C\", \"D\")\n",
    "print(A)"
   ]
  },
  {
   "cell_type": "code",
   "execution_count": 69,
   "id": "c83ed695",
   "metadata": {},
   "outputs": [
    {
     "data": {
      "text/plain": [
       "'Evens and odds are equal (2 each)'"
      ]
     },
     "execution_count": 69,
     "metadata": {},
     "output_type": "execute_result"
    }
   ],
   "source": [
    "def g7(*args):\n",
    "    even_count = 0\n",
    "    odd_count = 0\n",
    "    \n",
    "    for x in args:\n",
    "        num = int(x)\n",
    "        if num % 2 == 0:\n",
    "            even_count += 1\n",
    "        else:\n",
    "            odd_count += 1\n",
    "\n",
    "    if even_count > odd_count:\n",
    "        return f\"More evens ({even_count}) than odds ({odd_count})\"\n",
    "    elif odd_count > even_count:\n",
    "        return f\"More odds ({odd_count}) than evens ({even_count})\"\n",
    "    else:\n",
    "        return f\"Evens and odds are equal ({even_count} each)\"\n",
    "\n",
    "g7(\"1\", \"2\", \"3\", \"4\")  "
   ]
  },
  {
   "cell_type": "code",
   "execution_count": 68,
   "id": "eafcb766",
   "metadata": {},
   "outputs": [
    {
     "data": {
      "text/plain": [
       "'More evens (3) than odds (2)'"
      ]
     },
     "execution_count": 68,
     "metadata": {},
     "output_type": "execute_result"
    }
   ],
   "source": [
    "g7(\"1\", \"2\", \"3\", \"4\", \"10\")"
   ]
  },
  {
   "cell_type": "code",
   "execution_count": 71,
   "id": "4fc0623b",
   "metadata": {},
   "outputs": [
    {
     "name": "stdout",
     "output_type": "stream",
     "text": [
      "Medium string: Hello World Python\n"
     ]
    }
   ],
   "source": [
    "def g8(*args):\n",
    "    result = \" \".join(args)  \n",
    "    length = len(result)\n",
    "\n",
    "    if length < 10:\n",
    "        return f\"Short string: {result}\"\n",
    "    elif length < 30:\n",
    "        return f\"Medium string: {result}\"\n",
    "    else:\n",
    "        return f\"Long string: {result}\"\n",
    "\n",
    "D = g8(\"Hello\", \"World\", \"Python\")\n",
    "print(D)\n"
   ]
  },
  {
   "cell_type": "code",
   "execution_count": 73,
   "id": "02b702b9",
   "metadata": {},
   "outputs": [
    {
     "name": "stdout",
     "output_type": "stream",
     "text": [
      "{'Positives': [1, 5], 'Negatives': [-2, -3], 'Zeros': [0], 'Status': 'There are some zeros'}\n"
     ]
    }
   ],
   "source": [
    "def g9(*args):\n",
    "    positives = []\n",
    "    negatives = []\n",
    "    zeros = []\n",
    "    \n",
    "    for x in args:\n",
    "        num = int(x)\n",
    "        if num > 0:\n",
    "            positives.append(num)\n",
    "        elif num < 0:\n",
    "            negatives.append(num)\n",
    "        else:\n",
    "            zeros.append(num)\n",
    "    \n",
    "    if len(zeros) > 0:\n",
    "        status = \"There are some zeros\"\n",
    "    elif len(positives) == len(negatives):\n",
    "        status = \"Equal positives and negatives\"\n",
    "    else:\n",
    "        status = \"Mixed numbers\"\n",
    "    \n",
    "    return {\n",
    "        \"Positives\": positives,\n",
    "        \"Negatives\": negatives,\n",
    "        \"Zeros\": zeros,\n",
    "        \"Status\": status\n",
    "    }\n",
    "\n",
    "E = g9(\"1\", \"-2\", \"0\", \"5\", \"-3\")\n",
    "print(E)\n"
   ]
  },
  {
   "cell_type": "code",
   "execution_count": 1,
   "id": "cf749456",
   "metadata": {},
   "outputs": [],
   "source": [
    "def N1():\n",
    "    y = \"MATHEMATICS IS MY FAVOURITE SUBJECT\"\n",
    "    return y"
   ]
  },
  {
   "cell_type": "code",
   "execution_count": 3,
   "id": "456bcaee",
   "metadata": {},
   "outputs": [
    {
     "name": "stdout",
     "output_type": "stream",
     "text": [
      "MATHEMATICS IS MY FAVOURITE SUBJECT\n"
     ]
    }
   ],
   "source": [
    "print(N1())"
   ]
  },
  {
   "cell_type": "code",
   "execution_count": 8,
   "id": "6a899f48",
   "metadata": {},
   "outputs": [
    {
     "name": "stdout",
     "output_type": "stream",
     "text": [
      "Negative\n",
      "Zero\n",
      "Positive\n"
     ]
    }
   ],
   "source": [
    "def N3(n):\n",
    "    if n > 0:\n",
    "        return \"Positive\"\n",
    "    elif n < 0:\n",
    "        return \"Negative\"\n",
    "    else:\n",
    "        return \"Zero\"\n",
    "\n",
    "print(N3(-5))  \n",
    "print(N3(0))   \n",
    "print(N3(10))  \n",
    "\n",
    "\n"
   ]
  },
  {
   "cell_type": "code",
   "execution_count": 9,
   "id": "9b71fea9",
   "metadata": {},
   "outputs": [],
   "source": [
    "def g(name, age= \"18+\"):\n",
    "    return {\n",
    "        \"name\": name,\n",
    "        \"age\": age\n",
    "    }"
   ]
  },
  {
   "cell_type": "code",
   "execution_count": 10,
   "id": "78317beb",
   "metadata": {},
   "outputs": [
    {
     "name": "stdout",
     "output_type": "stream",
     "text": [
      "15\n"
     ]
    }
   ],
   "source": [
    "def triangular_number(n):\n",
    "    if n < 0:\n",
    "        return \"n must be non-negative\"\n",
    "    return n * (n + 1) // 2\n",
    "\n",
    "print(triangular_number(5)) "
   ]
  },
  {
   "cell_type": "code",
   "execution_count": 12,
   "id": "ee91afa3",
   "metadata": {},
   "outputs": [],
   "source": [
    "def N6(a):\n",
    "    if a % 5 == 0:\n",
    "        return f\"{a} is divisible by {5}\"\n",
    "    else:\n",
    "        return \"NOT DIVISIBLE\"\n",
    " \n"
   ]
  },
  {
   "cell_type": "code",
   "execution_count": 13,
   "id": "4ed5fcb5",
   "metadata": {},
   "outputs": [
    {
     "data": {
      "text/plain": [
       "'60 is divisible by 5'"
      ]
     },
     "execution_count": 13,
     "metadata": {},
     "output_type": "execute_result"
    }
   ],
   "source": [
    "N6(60)"
   ]
  },
  {
   "cell_type": "code",
   "execution_count": 14,
   "id": "5da33cc1",
   "metadata": {},
   "outputs": [
    {
     "name": "stdout",
     "output_type": "stream",
     "text": [
      "6\n"
     ]
    }
   ],
   "source": [
    "def gcd(a, b):\n",
    "    while b != 0:\n",
    "        a, b = b, a % b\n",
    "    return a\n",
    "\n",
    "print(gcd(48, 18)) \n"
   ]
  },
  {
   "cell_type": "code",
   "execution_count": 16,
   "id": "e45e5938",
   "metadata": {},
   "outputs": [
    {
     "data": {
      "text/plain": [
       "10"
      ]
     },
     "execution_count": 16,
     "metadata": {},
     "output_type": "execute_result"
    }
   ],
   "source": [
    "gcd(30, 40)"
   ]
  },
  {
   "cell_type": "code",
   "execution_count": 30,
   "id": "eacd2ff2",
   "metadata": {},
   "outputs": [],
   "source": [
    "def f(a):\n",
    "    def g(b):\n",
    "        if a + b > 80:\n",
    "            return \"A+\"\n",
    "        elif a + b > 60:\n",
    "            return \"A\"\n",
    "        else:\n",
    "            return \"B\"\n",
    "    return g(a) "
   ]
  },
  {
   "cell_type": "code",
   "execution_count": 33,
   "id": "4134424d",
   "metadata": {},
   "outputs": [
    {
     "name": "stdout",
     "output_type": "stream",
     "text": [
      "A+\n"
     ]
    }
   ],
   "source": [
    "a = f(90)\n",
    "print(a)"
   ]
  },
  {
   "cell_type": "code",
   "execution_count": 22,
   "id": "0829817b",
   "metadata": {},
   "outputs": [],
   "source": [
    "def g(b):\n",
    "        if a + b > 80:\n",
    "            return \"A+\"\n",
    "        elif a + b > 60:\n",
    "            return \"A\"\n",
    "        else:\n",
    "            return \"B\""
   ]
  },
  {
   "cell_type": "code",
   "execution_count": 23,
   "id": "c52b0e32",
   "metadata": {},
   "outputs": [
    {
     "ename": "NameError",
     "evalue": "name 'a' is not defined",
     "output_type": "error",
     "traceback": [
      "\u001b[31m---------------------------------------------------------------------------\u001b[39m",
      "\u001b[31mNameError\u001b[39m                                 Traceback (most recent call last)",
      "\u001b[36mCell\u001b[39m\u001b[36m \u001b[39m\u001b[32mIn[23]\u001b[39m\u001b[32m, line 1\u001b[39m\n\u001b[32m----> \u001b[39m\u001b[32m1\u001b[39m \u001b[43mg\u001b[49m\u001b[43m(\u001b[49m\u001b[32;43m10\u001b[39;49m\u001b[43m)\u001b[49m\n",
      "\u001b[36mCell\u001b[39m\u001b[36m \u001b[39m\u001b[32mIn[22]\u001b[39m\u001b[32m, line 2\u001b[39m, in \u001b[36mg\u001b[39m\u001b[34m(b)\u001b[39m\n\u001b[32m      1\u001b[39m \u001b[38;5;28;01mdef\u001b[39;00m\u001b[38;5;250m \u001b[39m\u001b[34mg\u001b[39m(b):\n\u001b[32m----> \u001b[39m\u001b[32m2\u001b[39m         \u001b[38;5;28;01mif\u001b[39;00m \u001b[43ma\u001b[49m + b > \u001b[32m80\u001b[39m:\n\u001b[32m      3\u001b[39m             \u001b[38;5;28;01mreturn\u001b[39;00m \u001b[33m\"\u001b[39m\u001b[33mA+\u001b[39m\u001b[33m\"\u001b[39m\n\u001b[32m      4\u001b[39m         \u001b[38;5;28;01melif\u001b[39;00m a + b > \u001b[32m60\u001b[39m:\n",
      "\u001b[31mNameError\u001b[39m: name 'a' is not defined"
     ]
    }
   ],
   "source": [
    "g(10)"
   ]
  },
  {
   "cell_type": "code",
   "execution_count": 21,
   "id": "7bf94ed9",
   "metadata": {},
   "outputs": [
    {
     "ename": "NameError",
     "evalue": "name 'b' is not defined",
     "output_type": "error",
     "traceback": [
      "\u001b[31m---------------------------------------------------------------------------\u001b[39m",
      "\u001b[31mNameError\u001b[39m                                 Traceback (most recent call last)",
      "\u001b[36mCell\u001b[39m\u001b[36m \u001b[39m\u001b[32mIn[21]\u001b[39m\u001b[32m, line 1\u001b[39m\n\u001b[32m----> \u001b[39m\u001b[32m1\u001b[39m a = \u001b[43mf\u001b[49m\u001b[43m(\u001b[49m\u001b[32;43m90\u001b[39;49m\u001b[43m)\u001b[49m\n",
      "\u001b[36mCell\u001b[39m\u001b[36m \u001b[39m\u001b[32mIn[17]\u001b[39m\u001b[32m, line 9\u001b[39m, in \u001b[36mf\u001b[39m\u001b[34m(a)\u001b[39m\n\u001b[32m      7\u001b[39m     \u001b[38;5;28;01melse\u001b[39;00m:\n\u001b[32m      8\u001b[39m         \u001b[38;5;28;01mreturn\u001b[39;00m \u001b[33m\"\u001b[39m\u001b[33mB\u001b[39m\u001b[33m\"\u001b[39m\n\u001b[32m----> \u001b[39m\u001b[32m9\u001b[39m \u001b[38;5;28;01mreturn\u001b[39;00m g(\u001b[43mb\u001b[49m)\n",
      "\u001b[31mNameError\u001b[39m: name 'b' is not defined"
     ]
    }
   ],
   "source": [
    "a = f(90)"
   ]
  },
  {
   "cell_type": "code",
   "execution_count": 34,
   "id": "4f016da9",
   "metadata": {},
   "outputs": [],
   "source": [
    "a = input(\"Your name:\")"
   ]
  },
  {
   "cell_type": "code",
   "execution_count": 35,
   "id": "d4ab9942",
   "metadata": {},
   "outputs": [
    {
     "name": "stdout",
     "output_type": "stream",
     "text": [
      "AiZaZ\n"
     ]
    }
   ],
   "source": [
    "print(a)"
   ]
  },
  {
   "cell_type": "code",
   "execution_count": 36,
   "id": "1d9c8263",
   "metadata": {},
   "outputs": [
    {
     "data": {
      "text/plain": [
       "'AIZAZ'"
      ]
     },
     "execution_count": 36,
     "metadata": {},
     "output_type": "execute_result"
    }
   ],
   "source": [
    "a.upper()"
   ]
  },
  {
   "cell_type": "code",
   "execution_count": 37,
   "id": "d21cf37e",
   "metadata": {},
   "outputs": [
    {
     "data": {
      "text/plain": [
       "False"
      ]
     },
     "execution_count": 37,
     "metadata": {},
     "output_type": "execute_result"
    }
   ],
   "source": [
    "a.isupper()"
   ]
  },
  {
   "cell_type": "code",
   "execution_count": 38,
   "id": "6774c069",
   "metadata": {},
   "outputs": [],
   "source": [
    "a = input(\"Your name:\")"
   ]
  },
  {
   "cell_type": "code",
   "execution_count": 40,
   "id": "62023df3",
   "metadata": {},
   "outputs": [
    {
     "name": "stdout",
     "output_type": "stream",
     "text": [
      "ABCDE\n"
     ]
    }
   ],
   "source": [
    "print(a)"
   ]
  },
  {
   "cell_type": "code",
   "execution_count": 41,
   "id": "9a722f42",
   "metadata": {},
   "outputs": [
    {
     "data": {
      "text/plain": [
       "'abcde'"
      ]
     },
     "execution_count": 41,
     "metadata": {},
     "output_type": "execute_result"
    }
   ],
   "source": [
    "a.lower()"
   ]
  },
  {
   "cell_type": "code",
   "execution_count": 44,
   "id": "85c2e3d6",
   "metadata": {},
   "outputs": [
    {
     "data": {
      "text/plain": [
       "0"
      ]
     },
     "execution_count": 44,
     "metadata": {},
     "output_type": "execute_result"
    }
   ],
   "source": [
    "a.count('c')"
   ]
  },
  {
   "cell_type": "code",
   "execution_count": 45,
   "id": "edd18edc",
   "metadata": {},
   "outputs": [],
   "source": [
    "A = input(\"Your name:\")"
   ]
  },
  {
   "cell_type": "code",
   "execution_count": 46,
   "id": "f73a7c46",
   "metadata": {},
   "outputs": [
    {
     "data": {
      "text/plain": [
       "'my name is aizaz ahmad'"
      ]
     },
     "execution_count": 46,
     "metadata": {},
     "output_type": "execute_result"
    }
   ],
   "source": [
    "A.strip()"
   ]
  },
  {
   "cell_type": "code",
   "execution_count": 48,
   "id": "4e35bc6f",
   "metadata": {},
   "outputs": [
    {
     "data": {
      "text/plain": [
       "'my name is ali ahmad'"
      ]
     },
     "execution_count": 48,
     "metadata": {},
     "output_type": "execute_result"
    }
   ],
   "source": [
    "A.replace(\"aizaz\", \"ali\")"
   ]
  },
  {
   "cell_type": "code",
   "execution_count": 51,
   "id": "2f2de723",
   "metadata": {},
   "outputs": [
    {
     "data": {
      "text/plain": [
       "'m,y, ,n,a,m,e, ,i,s, ,a,i,z,a,z, ,a,h,m,a,d'"
      ]
     },
     "execution_count": 51,
     "metadata": {},
     "output_type": "execute_result"
    }
   ],
   "source": [
    "\",\".join(A)"
   ]
  },
  {
   "cell_type": "code",
   "execution_count": 55,
   "id": "50fb7486",
   "metadata": {},
   "outputs": [
    {
     "data": {
      "text/plain": [
       "['my name is aizaz ahmad']"
      ]
     },
     "execution_count": 55,
     "metadata": {},
     "output_type": "execute_result"
    }
   ],
   "source": [
    "A.split(\"-\")"
   ]
  },
  {
   "cell_type": "code",
   "execution_count": 56,
   "id": "38e4db33",
   "metadata": {},
   "outputs": [
    {
     "name": "stdout",
     "output_type": "stream",
     "text": [
      "my name is aizaz ahmad\n"
     ]
    }
   ],
   "source": [
    "print(A)"
   ]
  },
  {
   "cell_type": "code",
   "execution_count": 60,
   "id": "b8dd12b4",
   "metadata": {},
   "outputs": [
    {
     "data": {
      "text/plain": [
       "['my name is aizaz ahmad']"
      ]
     },
     "execution_count": 60,
     "metadata": {},
     "output_type": "execute_result"
    }
   ],
   "source": [
    "A.split(\"+\")"
   ]
  },
  {
   "cell_type": "code",
   "execution_count": null,
   "id": "e67a783e",
   "metadata": {},
   "outputs": [],
   "source": []
  }
 ],
 "metadata": {
  "kernelspec": {
   "display_name": "Python 3",
   "language": "python",
   "name": "python3"
  },
  "language_info": {
   "codemirror_mode": {
    "name": "ipython",
    "version": 3
   },
   "file_extension": ".py",
   "mimetype": "text/x-python",
   "name": "python",
   "nbconvert_exporter": "python",
   "pygments_lexer": "ipython3",
   "version": "3.13.7"
  }
 },
 "nbformat": 4,
 "nbformat_minor": 5
}
