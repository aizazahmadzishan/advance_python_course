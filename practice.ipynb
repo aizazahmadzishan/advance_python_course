{
 "cells": [
  {
   "cell_type": "code",
   "execution_count": 1,
   "id": "27c257c8-64a8-43ca-a727-e6043df59a8d",
   "metadata": {},
   "outputs": [],
   "source": [
    "list1 = [1, 2, 3, 4, 5, 6, 7, 8, 9]"
   ]
  },
  {
   "cell_type": "code",
   "execution_count": 2,
   "id": "2b28e5ce-63ab-41f1-8f68-84ffb383f65e",
   "metadata": {},
   "outputs": [
    {
     "data": {
      "text/plain": [
       "9"
      ]
     },
     "execution_count": 2,
     "metadata": {},
     "output_type": "execute_result"
    }
   ],
   "source": [
    "len(list1)"
   ]
  },
  {
   "cell_type": "code",
   "execution_count": 3,
   "id": "144f04da-4037-4be0-9d2e-99d90a9f6e81",
   "metadata": {},
   "outputs": [
    {
     "data": {
      "text/plain": [
       "[3, 4, 5, 6, 7]"
      ]
     },
     "execution_count": 3,
     "metadata": {},
     "output_type": "execute_result"
    }
   ],
   "source": [
    "list1[2:7]"
   ]
  },
  {
   "cell_type": "code",
   "execution_count": 4,
   "id": "4850ea26-1c5e-406d-b322-981868690ea1",
   "metadata": {},
   "outputs": [
    {
     "data": {
      "text/plain": [
       "[1, 2, 3, 4, 5, 6, 7]"
      ]
     },
     "execution_count": 4,
     "metadata": {},
     "output_type": "execute_result"
    }
   ],
   "source": [
    "list1[:7]"
   ]
  },
  {
   "cell_type": "code",
   "execution_count": 5,
   "id": "324a8cc4-5931-4d41-93ce-a97c165beaa2",
   "metadata": {},
   "outputs": [
    {
     "data": {
      "text/plain": [
       "[5, 6, 7, 8, 9]"
      ]
     },
     "execution_count": 5,
     "metadata": {},
     "output_type": "execute_result"
    }
   ],
   "source": [
    "list1[4:]"
   ]
  },
  {
   "cell_type": "code",
   "execution_count": 6,
   "id": "a85ab172-aa12-4fd4-8760-20c85c3c37cd",
   "metadata": {},
   "outputs": [
    {
     "name": "stdout",
     "output_type": "stream",
     "text": [
      "[1, 2, 3, 4, 5, 6, 7, 8, 9]\n"
     ]
    }
   ],
   "source": [
    "print(list1[:])"
   ]
  },
  {
   "cell_type": "code",
   "execution_count": 7,
   "id": "2e4d822c-4ed3-4c66-8049-f56adbab3bde",
   "metadata": {},
   "outputs": [
    {
     "data": {
      "text/plain": [
       "[1, 8]"
      ]
     },
     "execution_count": 7,
     "metadata": {},
     "output_type": "execute_result"
    }
   ],
   "source": [
    "list1[::7]"
   ]
  },
  {
   "cell_type": "code",
   "execution_count": 8,
   "id": "b543334d-3e97-402d-9bb8-fa28e5d44573",
   "metadata": {},
   "outputs": [
    {
     "data": {
      "text/plain": [
       "[9, 8, 7, 6, 5, 4, 3, 2, 1]"
      ]
     },
     "execution_count": 8,
     "metadata": {},
     "output_type": "execute_result"
    }
   ],
   "source": [
    "list1[::-1]"
   ]
  },
  {
   "cell_type": "code",
   "execution_count": 9,
   "id": "24b66722-1279-42d6-b553-f2382b67ddfd",
   "metadata": {},
   "outputs": [
    {
     "data": {
      "text/plain": [
       "[9, 7, 5, 3, 1]"
      ]
     },
     "execution_count": 9,
     "metadata": {},
     "output_type": "execute_result"
    }
   ],
   "source": [
    "list1[::-2]"
   ]
  },
  {
   "cell_type": "code",
   "execution_count": 10,
   "id": "0fe8c494-fb49-4864-a3c2-5017809dd6a9",
   "metadata": {},
   "outputs": [],
   "source": [
    "f = [\"apple\", \"banana\"]"
   ]
  },
  {
   "cell_type": "code",
   "execution_count": 11,
   "id": "d2432321-03a1-4513-9712-7a8e3ff154d5",
   "metadata": {},
   "outputs": [],
   "source": [
    "f[0] = \"orange\""
   ]
  },
  {
   "cell_type": "code",
   "execution_count": 12,
   "id": "228a6827-9658-46b6-9924-445a3361cd10",
   "metadata": {},
   "outputs": [
    {
     "name": "stdout",
     "output_type": "stream",
     "text": [
      "['orange', 'banana']\n"
     ]
    }
   ],
   "source": [
    "print(f)"
   ]
  },
  {
   "cell_type": "code",
   "execution_count": 13,
   "id": "77ebcc75-a4c8-4d6d-85b4-f0dbccb2bf67",
   "metadata": {},
   "outputs": [
    {
     "ename": "IndexError",
     "evalue": "list assignment index out of range",
     "output_type": "error",
     "traceback": [
      "\u001b[1;31m---------------------------------------------------------------------------\u001b[0m",
      "\u001b[1;31mIndexError\u001b[0m                                Traceback (most recent call last)",
      "Cell \u001b[1;32mIn[13], line 1\u001b[0m\n\u001b[1;32m----> 1\u001b[0m f[\u001b[38;5;241m2\u001b[39m] \u001b[38;5;241m=\u001b[39m \u001b[38;5;124m\"\u001b[39m\u001b[38;5;124mabc\u001b[39m\u001b[38;5;124m\"\u001b[39m\n",
      "\u001b[1;31mIndexError\u001b[0m: list assignment index out of range"
     ]
    }
   ],
   "source": [
    "f[2] = \"abc\""
   ]
  },
  {
   "cell_type": "code",
   "execution_count": 14,
   "id": "25607855-b299-468b-b6b1-a63ec8e56ba8",
   "metadata": {},
   "outputs": [],
   "source": [
    "list1[0]= 0"
   ]
  },
  {
   "cell_type": "code",
   "execution_count": 15,
   "id": "eede91ba-b29b-413a-98c7-5998a6be3040",
   "metadata": {},
   "outputs": [
    {
     "name": "stdout",
     "output_type": "stream",
     "text": [
      "[0, 2, 3, 4, 5, 6, 7, 8, 9]\n"
     ]
    }
   ],
   "source": [
    "print(list1)"
   ]
  },
  {
   "cell_type": "code",
   "execution_count": 16,
   "id": "08daaf2f-6eaa-46cc-ba13-fae3be2b7e56",
   "metadata": {},
   "outputs": [],
   "source": [
    "list1.append(10)"
   ]
  },
  {
   "cell_type": "code",
   "execution_count": 17,
   "id": "95d7441f-4e94-48f5-84ed-3e2a6ddb84bc",
   "metadata": {},
   "outputs": [
    {
     "name": "stdout",
     "output_type": "stream",
     "text": [
      "[0, 2, 3, 4, 5, 6, 7, 8, 9, 10]\n"
     ]
    }
   ],
   "source": [
    "print(list1)"
   ]
  },
  {
   "cell_type": "code",
   "execution_count": 18,
   "id": "6151bdb5-fb1d-4b5e-bfa4-846b8cd26b53",
   "metadata": {},
   "outputs": [],
   "source": [
    "list1.insert(1, 1)"
   ]
  },
  {
   "cell_type": "code",
   "execution_count": 19,
   "id": "5f1a9468-8b09-4920-9003-b53ea7ad1a3d",
   "metadata": {},
   "outputs": [
    {
     "name": "stdout",
     "output_type": "stream",
     "text": [
      "[0, 1, 2, 3, 4, 5, 6, 7, 8, 9, 10]\n"
     ]
    }
   ],
   "source": [
    "print(list1)"
   ]
  },
  {
   "cell_type": "code",
   "execution_count": 20,
   "id": "f78a7a6b-869e-496d-af02-105d6cb947a7",
   "metadata": {},
   "outputs": [],
   "source": [
    "c = list1 + f"
   ]
  },
  {
   "cell_type": "code",
   "execution_count": 21,
   "id": "03a8b614-2680-4047-b6a6-3acda1ed278f",
   "metadata": {},
   "outputs": [
    {
     "name": "stdout",
     "output_type": "stream",
     "text": [
      "[0, 1, 2, 3, 4, 5, 6, 7, 8, 9, 10, 'orange', 'banana']\n"
     ]
    }
   ],
   "source": [
    "print(c)"
   ]
  },
  {
   "cell_type": "code",
   "execution_count": 22,
   "id": "3753eaff-6b40-4631-bf4f-10139dbf15d7",
   "metadata": {},
   "outputs": [],
   "source": [
    "list1.extend(f)"
   ]
  },
  {
   "cell_type": "code",
   "execution_count": 23,
   "id": "c350485a-b2e2-4df8-9cc2-dc03d31c5b1d",
   "metadata": {},
   "outputs": [
    {
     "name": "stdout",
     "output_type": "stream",
     "text": [
      "[0, 1, 2, 3, 4, 5, 6, 7, 8, 9, 10, 'orange', 'banana']\n"
     ]
    }
   ],
   "source": [
    "print(list1)"
   ]
  },
  {
   "cell_type": "code",
   "execution_count": 24,
   "id": "a5dd3dd4-79f1-4098-8830-b842f787a465",
   "metadata": {},
   "outputs": [],
   "source": [
    "# manipulation"
   ]
  },
  {
   "cell_type": "code",
   "execution_count": 25,
   "id": "9367ac1f-4beb-4718-9d40-c90cee5a117d",
   "metadata": {},
   "outputs": [],
   "source": [
    "list1.remove(\"orange\")"
   ]
  },
  {
   "cell_type": "code",
   "execution_count": 26,
   "id": "e2cd7f49-d924-46f8-b3c8-6be7342aa824",
   "metadata": {},
   "outputs": [
    {
     "name": "stdout",
     "output_type": "stream",
     "text": [
      "[0, 1, 2, 3, 4, 5, 6, 7, 8, 9, 10, 'banana']\n"
     ]
    }
   ],
   "source": [
    "print(list1)"
   ]
  },
  {
   "cell_type": "code",
   "execution_count": 27,
   "id": "c32f525d-b273-4ee4-a2a1-7b4d776ea100",
   "metadata": {},
   "outputs": [],
   "source": [
    "list1.remove(\"banana\")"
   ]
  },
  {
   "cell_type": "code",
   "execution_count": 28,
   "id": "4a4e6555-6a89-4a78-9eb4-19b52e79c651",
   "metadata": {},
   "outputs": [
    {
     "name": "stdout",
     "output_type": "stream",
     "text": [
      "[0, 1, 2, 3, 4, 5, 6, 7, 8, 9, 10]\n"
     ]
    }
   ],
   "source": [
    "print(list1)"
   ]
  },
  {
   "cell_type": "code",
   "execution_count": 31,
   "id": "393ab539-3f40-476c-b97f-cfbcdfdc3b30",
   "metadata": {},
   "outputs": [],
   "source": [
    "list2 = list1.pop(0)"
   ]
  },
  {
   "cell_type": "code",
   "execution_count": 32,
   "id": "52172e8a-6af2-46df-8684-1cea282d8324",
   "metadata": {},
   "outputs": [
    {
     "name": "stdout",
     "output_type": "stream",
     "text": [
      "[2, 3, 4, 5, 6, 7, 8, 9, 10]\n"
     ]
    }
   ],
   "source": [
    "print(list1)"
   ]
  },
  {
   "cell_type": "code",
   "execution_count": 34,
   "id": "d2934382-af2c-4112-9706-4eea90306d26",
   "metadata": {},
   "outputs": [
    {
     "name": "stdout",
     "output_type": "stream",
     "text": [
      "1\n"
     ]
    }
   ],
   "source": [
    "print(list2)"
   ]
  },
  {
   "cell_type": "code",
   "execution_count": 35,
   "id": "ad97531d-e92d-48e4-aaf6-22b4e8746804",
   "metadata": {},
   "outputs": [],
   "source": [
    "del list1[8]"
   ]
  },
  {
   "cell_type": "code",
   "execution_count": 36,
   "id": "abb9f323-7296-4910-8ea3-0d70b1f5a932",
   "metadata": {},
   "outputs": [
    {
     "name": "stdout",
     "output_type": "stream",
     "text": [
      "[2, 3, 4, 5, 6, 7, 8, 9]\n"
     ]
    }
   ],
   "source": [
    "print(list1)"
   ]
  },
  {
   "cell_type": "markdown",
   "id": "65ddb7ae-4415-4848-9c79-82e767a9610b",
   "metadata": {},
   "source": [
    "# Home work\n",
    "# difference between pop and remove commond"
   ]
  },
  {
   "cell_type": "code",
   "execution_count": 37,
   "id": "ee465ee9-dcf5-4f15-a508-9540df686f1d",
   "metadata": {},
   "outputs": [
    {
     "data": {
      "text/plain": [
       "8"
      ]
     },
     "execution_count": 37,
     "metadata": {},
     "output_type": "execute_result"
    }
   ],
   "source": [
    "len(list1)"
   ]
  },
  {
   "cell_type": "code",
   "execution_count": 38,
   "id": "db0bfb04-3f4d-4368-8272-c97aa8709b01",
   "metadata": {},
   "outputs": [
    {
     "data": {
      "text/plain": [
       "3"
      ]
     },
     "execution_count": 38,
     "metadata": {},
     "output_type": "execute_result"
    }
   ],
   "source": [
    "list1.index(5)"
   ]
  },
  {
   "cell_type": "code",
   "execution_count": 40,
   "id": "6f86ba83-d5bd-4778-b73c-c7fc887046c6",
   "metadata": {},
   "outputs": [],
   "source": [
    "list1.append([10, 11, 13, 13, 15, 15, 15])"
   ]
  },
  {
   "cell_type": "code",
   "execution_count": 41,
   "id": "46f5b546-6943-4f8f-88f4-5e42c65970d4",
   "metadata": {},
   "outputs": [
    {
     "name": "stdout",
     "output_type": "stream",
     "text": [
      "[2, 3, 4, 5, 6, 7, 8, 9, [10, 11, 13, 13, 15, 15, 15]]\n"
     ]
    }
   ],
   "source": [
    "print(list1)"
   ]
  },
  {
   "cell_type": "code",
   "execution_count": 42,
   "id": "0448cd20-0dd3-4508-89de-1159bfba7f70",
   "metadata": {},
   "outputs": [
    {
     "data": {
      "text/plain": [
       "0"
      ]
     },
     "execution_count": 42,
     "metadata": {},
     "output_type": "execute_result"
    }
   ],
   "source": [
    "list1.count(15)"
   ]
  },
  {
   "cell_type": "code",
   "execution_count": 43,
   "id": "c20af5d6-9ec1-4700-ad58-e800ee350865",
   "metadata": {},
   "outputs": [
    {
     "data": {
      "text/plain": [
       "1"
      ]
     },
     "execution_count": 43,
     "metadata": {},
     "output_type": "execute_result"
    }
   ],
   "source": [
    "list1.count(5)"
   ]
  },
  {
   "cell_type": "code",
   "execution_count": 44,
   "id": "dd1b67ba-13d9-47b7-ba55-8c4f8951744d",
   "metadata": {},
   "outputs": [],
   "source": [
    "list11 =[1, 5, 3, 6, 9, 10, 43, 9]"
   ]
  },
  {
   "cell_type": "code",
   "execution_count": 45,
   "id": "8a87a1c7-6b0d-4de3-999b-117eb31a6322",
   "metadata": {},
   "outputs": [],
   "source": [
    "list11.sort(reverse=True)"
   ]
  },
  {
   "cell_type": "code",
   "execution_count": 46,
   "id": "8f2358e7-8c10-41d6-a15b-4fbdc909da96",
   "metadata": {},
   "outputs": [
    {
     "name": "stdout",
     "output_type": "stream",
     "text": [
      "[43, 10, 9, 9, 6, 5, 3, 1]\n"
     ]
    }
   ],
   "source": [
    "print(list11)"
   ]
  },
  {
   "cell_type": "code",
   "execution_count": 47,
   "id": "7f1918e7-1d86-4c57-a52c-ae92254790c2",
   "metadata": {},
   "outputs": [],
   "source": [
    "list11.sort(reverse=False)"
   ]
  },
  {
   "cell_type": "code",
   "execution_count": 48,
   "id": "f1311a8b-7259-4a3b-939c-3e6e3a54aa5e",
   "metadata": {},
   "outputs": [
    {
     "name": "stdout",
     "output_type": "stream",
     "text": [
      "[1, 3, 5, 6, 9, 9, 10, 43]\n"
     ]
    }
   ],
   "source": [
    "print(list11)"
   ]
  },
  {
   "cell_type": "code",
   "execution_count": 49,
   "id": "c18d2165-0ab4-4fcf-8130-d613c2d17329",
   "metadata": {},
   "outputs": [
    {
     "data": {
      "text/plain": [
       "2"
      ]
     },
     "execution_count": 49,
     "metadata": {},
     "output_type": "execute_result"
    }
   ],
   "source": [
    "list11.count(9)"
   ]
  },
  {
   "cell_type": "code",
   "execution_count": null,
   "id": "c1f04790-1d0e-40a6-b812-42417efcb3a0",
   "metadata": {},
   "outputs": [],
   "source": []
  }
 ],
 "metadata": {
  "kernelspec": {
   "display_name": "Python [conda env:base] *",
   "language": "python",
   "name": "conda-base-py"
  },
  "language_info": {
   "codemirror_mode": {
    "name": "ipython",
    "version": 3
   },
   "file_extension": ".py",
   "mimetype": "text/x-python",
   "name": "python",
   "nbconvert_exporter": "python",
   "pygments_lexer": "ipython3",
   "version": "3.13.5"
  }
 },
 "nbformat": 4,
 "nbformat_minor": 5
}
