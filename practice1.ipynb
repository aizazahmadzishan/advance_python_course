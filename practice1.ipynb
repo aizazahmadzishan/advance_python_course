{
 "cells": [
  {
   "cell_type": "markdown",
   "id": "7958d6f9",
   "metadata": {},
   "source": [
    "## Dictionary"
   ]
  },
  {
   "cell_type": "markdown",
   "id": "71e0e6ba",
   "metadata": {},
   "source": []
  },
  {
   "cell_type": "code",
   "execution_count": null,
   "id": "dc974b04",
   "metadata": {},
   "outputs": [],
   "source": [
    "d1 = {\n",
    "    'key' : 'value'\n",
    "}"
   ]
  },
  {
   "cell_type": "code",
   "execution_count": null,
   "id": "e9e6ad9b",
   "metadata": {},
   "outputs": [],
   "source": [
    "d1 = {\n",
    "    'key' : 'value'\n",
    "}"
   ]
  },
  {
   "cell_type": "markdown",
   "id": "e87d0ee8",
   "metadata": {},
   "source": []
  },
  {
   "cell_type": "code",
   "execution_count": null,
   "id": "f7a9f3ef",
   "metadata": {},
   "outputs": [],
   "source": [
    "print('a')"
   ]
  },
  {
   "cell_type": "code",
   "execution_count": 1,
   "id": "098cc9c0",
   "metadata": {},
   "outputs": [],
   "source": [
    "D = {\n",
    "    \"name\" : \"Aizaz\",\n",
    "    \"age\" : 23,\n",
    "    \"id\" : 12233,\n",
    "    \"parents\" : (\"A\", \"B\"),\n",
    "    \"address\" : {\n",
    "        \"street\" : \"s - 2\",\n",
    "        \"house no\" : 7,\n",
    "        \"postal no\" : 2000\n",
    "    }\n",
    "}"
   ]
  },
  {
   "cell_type": "code",
   "execution_count": 2,
   "id": "26c3cc0d",
   "metadata": {},
   "outputs": [
    {
     "name": "stdout",
     "output_type": "stream",
     "text": [
      "{'street': 's - 2', 'house no': 7, 'postal no': 2000}\n"
     ]
    }
   ],
   "source": [
    "print(D[\"address\"])"
   ]
  },
  {
   "cell_type": "code",
   "execution_count": 3,
   "id": "c4ab7dee",
   "metadata": {},
   "outputs": [],
   "source": [
    "D[\"age\"] = 25"
   ]
  },
  {
   "cell_type": "code",
   "execution_count": 4,
   "id": "c972ceb1",
   "metadata": {},
   "outputs": [
    {
     "name": "stdout",
     "output_type": "stream",
     "text": [
      "25\n"
     ]
    }
   ],
   "source": [
    "print(D[\"age\"])"
   ]
  },
  {
   "cell_type": "code",
   "execution_count": 5,
   "id": "6f693e92",
   "metadata": {},
   "outputs": [],
   "source": [
    "del D[\"address\"][\"postal no\"]"
   ]
  },
  {
   "cell_type": "code",
   "execution_count": 6,
   "id": "0d6e8c0c",
   "metadata": {},
   "outputs": [
    {
     "name": "stdout",
     "output_type": "stream",
     "text": [
      "{'name': 'Aizaz', 'age': 25, 'id': 12233, 'parents': ('A', 'B'), 'address': {'street': 's - 2', 'house no': 7}}\n"
     ]
    }
   ],
   "source": [
    "print(D)"
   ]
  }
 ],
 "metadata": {
  "kernelspec": {
   "display_name": "base",
   "language": "python",
   "name": "python3"
  },
  "language_info": {
   "codemirror_mode": {
    "name": "ipython",
    "version": 3
   },
   "file_extension": ".py",
   "mimetype": "text/x-python",
   "name": "python",
   "nbconvert_exporter": "python",
   "pygments_lexer": "ipython3",
   "version": "3.13.5"
  }
 },
 "nbformat": 4,
 "nbformat_minor": 5
}
