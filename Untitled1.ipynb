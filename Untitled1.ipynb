{
 "cells": [
  {
   "cell_type": "code",
   "execution_count": 2,
   "id": "312cc77f-0879-4d89-9464-5f2ea10e7a32",
   "metadata": {},
   "outputs": [],
   "source": [
    "cost = 99"
   ]
  },
  {
   "cell_type": "raw",
   "id": "a6d82517-8e5b-4e30-9b1e-32307eb339d8",
   "metadata": {},
   "source": [
    "print(cost)"
   ]
  },
  {
   "cell_type": "code",
   "execution_count": 3,
   "id": "70615731-b642-4591-bb73-ba1a7d1285a8",
   "metadata": {},
   "outputs": [],
   "source": [
    "x = 10"
   ]
  },
  {
   "cell_type": "code",
   "execution_count": 4,
   "id": "ef4f2007-7753-4a51-902d-275014ce3776",
   "metadata": {},
   "outputs": [
    {
     "name": "stdout",
     "output_type": "stream",
     "text": [
      "10\n"
     ]
    }
   ],
   "source": [
    "print(x)"
   ]
  },
  {
   "cell_type": "code",
   "execution_count": 5,
   "id": "14037296-11ab-4301-b064-35e4806e0b6d",
   "metadata": {},
   "outputs": [],
   "source": [
    "name = \"Aizaz\"\n",
    "age = 24"
   ]
  },
  {
   "cell_type": "code",
   "execution_count": 7,
   "id": "a63a9ea0-fbcb-4cc2-b384-a13afdcef74d",
   "metadata": {},
   "outputs": [],
   "source": [
    "roll_no = 3"
   ]
  },
  {
   "cell_type": "code",
   "execution_count": 8,
   "id": "3412e3b6-1d15-4369-9285-ae295630cd1d",
   "metadata": {},
   "outputs": [
    {
     "name": "stdout",
     "output_type": "stream",
     "text": [
      "Aizaz\n"
     ]
    }
   ],
   "source": [
    "print(name)"
   ]
  },
  {
   "cell_type": "code",
   "execution_count": 9,
   "id": "4032cfa4-2a8f-426a-b4d5-2c153fb54bdb",
   "metadata": {},
   "outputs": [
    {
     "name": "stdout",
     "output_type": "stream",
     "text": [
      "24\n"
     ]
    }
   ],
   "source": [
    "print(age)"
   ]
  },
  {
   "cell_type": "code",
   "execution_count": 10,
   "id": "f7d357c5-0aef-47a1-8820-15817ac8e647",
   "metadata": {},
   "outputs": [
    {
     "name": "stdout",
     "output_type": "stream",
     "text": [
      "3\n"
     ]
    }
   ],
   "source": [
    "print(roll_no)"
   ]
  },
  {
   "cell_type": "code",
   "execution_count": 13,
   "id": "b005b9cc-df71-4eeb-86c6-e569b73fab82",
   "metadata": {},
   "outputs": [],
   "source": [
    "university = \"Quaid e Azam university Islambad\"\n",
    "location =\"isamabad #034\"\n",
    "Ph_no = \"0345534\""
   ]
  },
  {
   "cell_type": "raw",
   "id": "ea92e002-d0d0-4b1a-8ac5-aaf30967a54c",
   "metadata": {},
   "source": [
    "print(Ph_no)"
   ]
  },
  {
   "cell_type": "code",
   "execution_count": 14,
   "id": "494460ad-560d-4324-9902-f9305621999d",
   "metadata": {},
   "outputs": [
    {
     "name": "stdout",
     "output_type": "stream",
     "text": [
      "Quaid e Azam university Islambad\n"
     ]
    }
   ],
   "source": [
    "print(university)"
   ]
  },
  {
   "cell_type": "code",
   "execution_count": 15,
   "id": "bf5a4705-4859-4a7f-a420-eff00aa7cb49",
   "metadata": {},
   "outputs": [
    {
     "name": "stdout",
     "output_type": "stream",
     "text": [
      "0345534\n"
     ]
    }
   ],
   "source": [
    "print(Ph_no)"
   ]
  },
  {
   "cell_type": "code",
   "execution_count": 16,
   "id": "0e264467-8836-48df-b6c7-79c7ef73b831",
   "metadata": {},
   "outputs": [],
   "source": [
    "H = \"HELLO\""
   ]
  },
  {
   "cell_type": "code",
   "execution_count": 17,
   "id": "91b4e399-f6b2-4037-a98f-e5ed60b34445",
   "metadata": {},
   "outputs": [
    {
     "name": "stdout",
     "output_type": "stream",
     "text": [
      "HELLO\n"
     ]
    }
   ],
   "source": [
    "print(H)"
   ]
  },
  {
   "cell_type": "code",
   "execution_count": 18,
   "id": "b5bf3292-9fdd-45f7-9f5c-4aac3bc0c4d2",
   "metadata": {},
   "outputs": [],
   "source": [
    "contact = {\n",
    "    \"name\": \"Aizaz\",\n",
    "    \"phone\": \"0300-1234567\",\n",
    "    \"email\": \"123@example.com\"\n",
    "}\n"
   ]
  },
  {
   "cell_type": "code",
   "execution_count": 19,
   "id": "32ca22dd-51f1-401f-8013-c17d9e954263",
   "metadata": {},
   "outputs": [
    {
     "ename": "NameError",
     "evalue": "name 'email' is not defined",
     "output_type": "error",
     "traceback": [
      "\u001b[1;31m---------------------------------------------------------------------------\u001b[0m",
      "\u001b[1;31mNameError\u001b[0m                                 Traceback (most recent call last)",
      "Cell \u001b[1;32mIn[19], line 1\u001b[0m\n\u001b[1;32m----> 1\u001b[0m \u001b[38;5;28mprint\u001b[39m(email)\n",
      "\u001b[1;31mNameError\u001b[0m: name 'email' is not defined"
     ]
    }
   ],
   "source": [
    "print(email)"
   ]
  },
  {
   "cell_type": "code",
   "execution_count": 20,
   "id": "74079280-8447-44df-a38a-d0fdd7af33d4",
   "metadata": {},
   "outputs": [
    {
     "name": "stdout",
     "output_type": "stream",
     "text": [
      "{'name': 'Aizaz', 'phone': '0300-1234567', 'email': '123@example.com'}\n"
     ]
    }
   ],
   "source": [
    "print(contact)"
   ]
  },
  {
   "cell_type": "code",
   "execution_count": 22,
   "id": "e2647152-06e5-455f-9b1a-99415b98f9c9",
   "metadata": {},
   "outputs": [
    {
     "ename": "KeyError",
     "evalue": "'Aizaz'",
     "output_type": "error",
     "traceback": [
      "\u001b[1;31m---------------------------------------------------------------------------\u001b[0m",
      "\u001b[1;31mKeyError\u001b[0m                                  Traceback (most recent call last)",
      "Cell \u001b[1;32mIn[22], line 1\u001b[0m\n\u001b[1;32m----> 1\u001b[0m \u001b[38;5;28mprint\u001b[39m(contact[name])\n",
      "\u001b[1;31mKeyError\u001b[0m: 'Aizaz'"
     ]
    }
   ],
   "source": [
    "print(contact[name])"
   ]
  },
  {
   "cell_type": "code",
   "execution_count": 23,
   "id": "c003e232-a286-4b5a-95f1-745f62a7d877",
   "metadata": {},
   "outputs": [
    {
     "name": "stdout",
     "output_type": "stream",
     "text": [
      "Aizaz\n"
     ]
    }
   ],
   "source": [
    "print(contact[\"name\"])"
   ]
  },
  {
   "cell_type": "code",
   "execution_count": 25,
   "id": "83bbcd2c-a0fe-4596-9fd1-fa1b9353a26e",
   "metadata": {},
   "outputs": [
    {
     "data": {
      "text/plain": [
       "str"
      ]
     },
     "execution_count": 25,
     "metadata": {},
     "output_type": "execute_result"
    }
   ],
   "source": [
    "type(contact[\"name\"])"
   ]
  },
  {
   "cell_type": "code",
   "execution_count": 28,
   "id": "404d3e7e-aa07-47a7-95bc-a2bc7a70ebe6",
   "metadata": {},
   "outputs": [
    {
     "name": "stdin",
     "output_type": "stream",
     "text": [
      "height:  4.4\n"
     ]
    },
    {
     "name": "stdout",
     "output_type": "stream",
     "text": [
      "4.4\n"
     ]
    }
   ],
   "source": [
    "H = float(input(\"height: \"))\n",
    "print(H)"
   ]
  },
  {
   "cell_type": "code",
   "execution_count": 29,
   "id": "ae5ecc02-c3f5-462f-bb00-6a4ef75cdbb3",
   "metadata": {},
   "outputs": [
    {
     "name": "stdout",
     "output_type": "stream",
     "text": [
      "{'id': 101, 'name': 'Laptop', 'price': 125000, 'in_stock': True}\n",
      "125000\n"
     ]
    }
   ],
   "source": [
    "product = {\n",
    "    \"id\": 101,\n",
    "    \"name\": \"Laptop\",\n",
    "    \"price\": float(125000.3),\n",
    "    \"in_stock\": True\n",
    "}\n",
    "\n",
    "print(product)\n",
    "print(product[\"price\"])\n"
   ]
  },
  {
   "cell_type": "code",
   "execution_count": 33,
   "id": "80844960-6839-4cab-8b1c-143707bed133",
   "metadata": {},
   "outputs": [
    {
     "data": {
      "text/plain": [
       "bool"
      ]
     },
     "execution_count": 33,
     "metadata": {},
     "output_type": "execute_result"
    }
   ],
   "source": [
    "type(product[\"in_stock\"])"
   ]
  },
  {
   "cell_type": "code",
   "execution_count": 34,
   "id": "b87e147d-99cf-427e-bc57-69132c8193b3",
   "metadata": {},
   "outputs": [
    {
     "data": {
      "text/plain": [
       "int"
      ]
     },
     "execution_count": 34,
     "metadata": {},
     "output_type": "execute_result"
    }
   ],
   "source": [
    "type(product[\"id\"])"
   ]
  },
  {
   "cell_type": "code",
   "execution_count": 35,
   "id": "a5d0c980-4080-4ebc-bec5-23a7765dc20b",
   "metadata": {},
   "outputs": [
    {
     "data": {
      "text/plain": [
       "int"
      ]
     },
     "execution_count": 35,
     "metadata": {},
     "output_type": "execute_result"
    }
   ],
   "source": [
    "type(product[\"price\"])"
   ]
  },
  {
   "cell_type": "code",
   "execution_count": 37,
   "id": "ebaea500-452b-40bd-a11b-53f2e7ab5146",
   "metadata": {},
   "outputs": [
    {
     "data": {
      "text/plain": [
       "int"
      ]
     },
     "execution_count": 37,
     "metadata": {},
     "output_type": "execute_result"
    }
   ],
   "source": [
    "type(product[\"price\"])"
   ]
  },
  {
   "cell_type": "code",
   "execution_count": null,
   "id": "fc408d55-3ec2-49bc-a837-1ca7542627ee",
   "metadata": {},
   "outputs": [],
   "source": []
  }
 ],
 "metadata": {
  "kernelspec": {
   "display_name": "Python [conda env:base] *",
   "language": "python",
   "name": "conda-base-py"
  },
  "language_info": {
   "codemirror_mode": {
    "name": "ipython",
    "version": 3
   },
   "file_extension": ".py",
   "mimetype": "text/x-python",
   "name": "python",
   "nbconvert_exporter": "python",
   "pygments_lexer": "ipython3",
   "version": "3.13.5"
  }
 },
 "nbformat": 4,
 "nbformat_minor": 5
}
